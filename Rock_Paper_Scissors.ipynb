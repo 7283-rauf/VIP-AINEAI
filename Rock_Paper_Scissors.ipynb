{
  "nbformat": 4,
  "nbformat_minor": 0,
  "metadata": {
    "colab": {
      "name": "Rock-Paper-Scissors.ipynb",
      "provenance": []
    },
    "kernelspec": {
      "name": "python3",
      "display_name": "Python 3"
    },
    "language_info": {
      "name": "python"
    }
  },
  "cells": [
    {
      "cell_type": "code",
      "metadata": {
        "colab": {
          "base_uri": "https://localhost:8080/"
        },
        "id": "VDP5BY4PcX9A",
        "outputId": "b61ebd1f-ea6f-466c-952c-c7dc464bcc40"
      },
      "source": [
        "# import random library\n",
        "import random\n",
        "\n",
        "# print multiline instruction\n",
        "# perform string concatenation of string\n",
        "\n",
        "print(\"Winning Rules of the Rock-Paper-Scissors game as follows: \\n\"\n",
        "                                 + \"Rock vs paper ->  Paper wins \\n\"\n",
        "                                 + \"Rock vs scissor -> Rock wins \\n\"\n",
        "                                 + \"Paper vs scissor -> Scissor wins \\n\")\n",
        "\n",
        "while True:\n",
        "    user_action = input(\"Enter a choice (rock, paper, scissors): \")                  #taking input from the user\n",
        "    possible_actions = [\"rock\",\"paper\",\"scissors\"]                                   #creating a list\n",
        "    computer_action = random.choice(possible_actions)                                #initializing the variable and accessing elements from the list\n",
        "    print(f\"\\nYou chose {user_action}, computer chose {computer_action}.\\n\")\n",
        "\n",
        "\n",
        "    if user_action == computer_action:\n",
        "      print(f\"Both players selected {user_action}. It's a tie!\")\n",
        "    elif user_action == \"rock\":\n",
        "      if computer_action == \"scissors\":                                              \n",
        "        print(\"Rock smashes scissors! You win!\")                                     #using conditional statements to determine the winner of the game\n",
        "      else:\n",
        "        print(\"Paper covers rock! You lose.\")\n",
        "    \n",
        "    elif user_action == \"paper\":\n",
        "      if computer_action == \"rock\":\n",
        "        print(\"Paper covers rock! You win!\")\n",
        "      else:\n",
        "        print(\"Scissors cuts paper! You lose.\")\n",
        "    \n",
        "    elif user_action == \"scissors\":\n",
        "      if computer_action == \"rock\":\n",
        "        print(\"Rock smashes scissors! You lose.\")\n",
        "      else:\n",
        "        print(\"Scissors cuts paper! You win!\")\n",
        "         \n",
        "    else:\n",
        "      print(\"invalid choice. Try Again!\")\n",
        "\n",
        "    print(\"Do you want to play again? (Y/N)\")\n",
        "    ans = input()\n",
        "\n",
        "\n",
        "    # if user input n or N then condition is True\n",
        "    if ans == \"n\" or ans == \"N\":\n",
        "      break\n",
        "\n",
        "\n",
        "# after coming out of the while loop\n",
        "# we print thanks for playing\n",
        "print(\"\\nThanks for playing.\")"
      ],
      "execution_count": 14,
      "outputs": [
        {
          "output_type": "stream",
          "name": "stdout",
          "text": [
            "Winning Rules of the Rock-Paper-Scissors game as follows: \n",
            "Rock vs paper ->  Paper wins \n",
            "Rock vs scissor -> Rock wins \n",
            "Paper vs scissor -> Scissor wins \n",
            "\n",
            "Enter a choice (rock, paper, scissors): paper\n",
            "\n",
            "You chose paper, computer chose scissors.\n",
            "\n",
            "Scissors cuts paper! You lose.\n",
            "Do you want to play again? (Y/N)\n",
            "y\n",
            "Enter a choice (rock, paper, scissors): rock\n",
            "\n",
            "You chose rock, computer chose paper.\n",
            "\n",
            "Paper covers rock! You lose.\n",
            "Do you want to play again? (Y/N)\n",
            "y\n",
            "Enter a choice (rock, paper, scissors): rock\n",
            "\n",
            "You chose rock, computer chose scissors.\n",
            "\n",
            "Rock smashes scissors! You win!\n",
            "Do you want to play again? (Y/N)\n",
            "n\n",
            "\n",
            "Thanks for playing.\n"
          ]
        }
      ]
    }
  ]
}